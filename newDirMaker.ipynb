{
 "cells": [
  {
   "cell_type": "code",
   "execution_count": 1,
   "metadata": {},
   "outputs": [
    {
     "name": "stdout",
     "output_type": "stream",
     "text": [
      "Requirement already satisfied: pandas in /Library/Frameworks/Python.framework/Versions/3.10/lib/python3.10/site-packages (2.2.2)\n",
      "Requirement already satisfied: XlsxWriter in /Library/Frameworks/Python.framework/Versions/3.10/lib/python3.10/site-packages (3.2.0)\n",
      "Requirement already satisfied: numpy>=1.22.4 in /Library/Frameworks/Python.framework/Versions/3.10/lib/python3.10/site-packages (from pandas) (1.26.4)\n",
      "Requirement already satisfied: python-dateutil>=2.8.2 in /Library/Frameworks/Python.framework/Versions/3.10/lib/python3.10/site-packages (from pandas) (2.9.0.post0)\n",
      "Requirement already satisfied: pytz>=2020.1 in /Library/Frameworks/Python.framework/Versions/3.10/lib/python3.10/site-packages (from pandas) (2024.1)\n",
      "Requirement already satisfied: tzdata>=2022.7 in /Library/Frameworks/Python.framework/Versions/3.10/lib/python3.10/site-packages (from pandas) (2024.1)\n",
      "Requirement already satisfied: six>=1.5 in /Library/Frameworks/Python.framework/Versions/3.10/lib/python3.10/site-packages (from python-dateutil>=2.8.2->pandas) (1.16.0)\n"
     ]
    }
   ],
   "source": [
    "!pip install pandas XlsxWriter"
   ]
  },
  {
   "cell_type": "code",
   "execution_count": 2,
   "metadata": {},
   "outputs": [
    {
     "name": "stdout",
     "output_type": "stream",
     "text": [
      "Files have been copied, renamed, organized, and the report has been created at newFileTracker.xlsx\n"
     ]
    }
   ],
   "source": [
    "import os\n",
    "import shutil\n",
    "from collections import defaultdict\n",
    "import pandas as pd\n",
    "\n",
    "def copy_and_rename_files(source_dir, target_dir):\n",
    "    if not os.path.exists(target_dir):\n",
    "        os.makedirs(target_dir)\n",
    "    \n",
    "    file_counter = defaultdict(int)\n",
    "    file_info = []\n",
    "\n",
    "    for root, _, files in os.walk(source_dir):\n",
    "        for file in files:\n",
    "            # Get file extension and name without extension\n",
    "            file_ext = os.path.splitext(file)[1]\n",
    "            file_name = os.path.splitext(file)[0]\n",
    "            \n",
    "            # Increment file counter to avoid overwriting\n",
    "            file_counter[file_name] += 1\n",
    "            new_file_name = f\"{file_name}_{file_counter[file_name]}{file_ext}\"\n",
    "            \n",
    "            source_file_path = os.path.join(root, file)\n",
    "            target_file_path = os.path.join(target_dir, new_file_name)\n",
    "            \n",
    "            shutil.copy2(source_file_path, target_file_path)\n",
    "            file_info.append((source_file_path, file, target_file_path, file_ext))\n",
    "    \n",
    "    return file_info\n",
    "\n",
    "def organize_files_by_extension(target_dir):\n",
    "    file_locations = []\n",
    "\n",
    "    for root, _, files in os.walk(target_dir):\n",
    "        for file in files:\n",
    "            file_ext = os.path.splitext(file)[1][1:]  # Get extension without dot\n",
    "            if file_ext:  # Ensure the file has an extension\n",
    "                ext_folder_path = os.path.join(target_dir, file_ext)\n",
    "                if not os.path.exists(ext_folder_path):\n",
    "                    os.makedirs(ext_folder_path)\n",
    "                \n",
    "                source_file_path = os.path.join(root, file)\n",
    "                target_file_path = os.path.join(ext_folder_path, file)\n",
    "                \n",
    "                shutil.move(source_file_path, target_file_path)\n",
    "                file_locations.append((source_file_path, target_file_path, file_ext))\n",
    "    \n",
    "    return file_locations\n",
    "\n",
    "def create_excel_report(file_info, file_locations, excel_path):\n",
    "    data = []\n",
    "    file_location_dict = {new_path: (source_path, old_name, ext) for source_path, old_name, new_path, ext in file_info}\n",
    "    \n",
    "    for new_path, final_path, ext in file_locations:\n",
    "        source_path, old_name, original_ext = file_location_dict.get(new_path, (None, None, None))\n",
    "        if source_path is not None:\n",
    "            folder_name = os.path.basename(os.path.dirname(final_path))\n",
    "            data.append([source_path, old_name, os.path.basename(new_path), folder_name])\n",
    "    \n",
    "    df = pd.DataFrame(data, columns=[\"Original Path\", \"Old Name\", \"New Name\", \"Folder\"])\n",
    "    df.to_excel(excel_path, index=False)\n",
    "\n",
    "if __name__ == \"__main__\":\n",
    "    source_dir = \"TestDirectory\"  # Specify your source directory here\n",
    "    target_dir = \"cleanedDir\"  # Specify your target directory here\n",
    "    excel_path = \"newFileTracker.xlsx\"  # Specify your Excel report path here\n",
    "    \n",
    "    file_info = copy_and_rename_files(source_dir, target_dir)\n",
    "    file_locations = organize_files_by_extension(target_dir)\n",
    "    create_excel_report(file_info, file_locations, excel_path)\n",
    "    \n",
    "    print(f\"Files have been copied, renamed, organized, and the report has been created at {excel_path}\")\n"
   ]
  }
 ],
 "metadata": {
  "kernelspec": {
   "display_name": "Python 3",
   "language": "python",
   "name": "python3"
  },
  "language_info": {
   "codemirror_mode": {
    "name": "ipython",
    "version": 3
   },
   "file_extension": ".py",
   "mimetype": "text/x-python",
   "name": "python",
   "nbconvert_exporter": "python",
   "pygments_lexer": "ipython3",
   "version": "3.10.0"
  }
 },
 "nbformat": 4,
 "nbformat_minor": 2
}
