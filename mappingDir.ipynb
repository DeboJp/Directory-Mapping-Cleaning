{
 "cells": [
  {
   "cell_type": "code",
   "execution_count": 1,
   "metadata": {},
   "outputs": [
    {
     "name": "stdout",
     "output_type": "stream",
     "text": [
      "Requirement already satisfied: pandas in /Library/Frameworks/Python.framework/Versions/3.10/lib/python3.10/site-packages (2.2.2)\n",
      "Requirement already satisfied: XlsxWriter in /Library/Frameworks/Python.framework/Versions/3.10/lib/python3.10/site-packages (3.2.0)\n",
      "Requirement already satisfied: numpy>=1.22.4 in /Library/Frameworks/Python.framework/Versions/3.10/lib/python3.10/site-packages (from pandas) (1.26.4)\n",
      "Requirement already satisfied: python-dateutil>=2.8.2 in /Library/Frameworks/Python.framework/Versions/3.10/lib/python3.10/site-packages (from pandas) (2.9.0.post0)\n",
      "Requirement already satisfied: pytz>=2020.1 in /Library/Frameworks/Python.framework/Versions/3.10/lib/python3.10/site-packages (from pandas) (2024.1)\n",
      "Requirement already satisfied: tzdata>=2022.7 in /Library/Frameworks/Python.framework/Versions/3.10/lib/python3.10/site-packages (from pandas) (2024.1)\n",
      "Requirement already satisfied: six>=1.5 in /Library/Frameworks/Python.framework/Versions/3.10/lib/python3.10/site-packages (from python-dateutil>=2.8.2->pandas) (1.16.0)\n"
     ]
    }
   ],
   "source": [
    "!pip install pandas XlsxWriter"
   ]
  },
  {
   "cell_type": "code",
   "execution_count": 2,
   "metadata": {},
   "outputs": [
    {
     "name": "stdout",
     "output_type": "stream",
     "text": [
      "Directory structure and file list saved to 6.xlsx\n"
     ]
    }
   ],
   "source": [
    "\n",
    "import os\n",
    "import pandas as pd\n",
    "\n",
    "def map_directory(root_folder):\n",
    "    paths = []\n",
    "    file_data = []\n",
    "\n",
    "    # Walk through the directory\n",
    "    for dirpath, dirnames, filenames in os.walk(root_folder):\n",
    "        # Extract the relative path\n",
    "        relative_path = os.path.relpath(dirpath, root_folder)\n",
    "        # Split the relative path into components\n",
    "        parts = relative_path.split(os.sep)\n",
    "        \n",
    "        for filename in filenames:\n",
    "            # Create a row with the directory parts and filename\n",
    "            row = [root_folder] + parts + [filename]\n",
    "            full_path = os.path.join(dirpath, filename)\n",
    "            paths.append(row)\n",
    "            file_data.append([full_path, filename])\n",
    "\n",
    "    # Determine the maximum number of columns needed\n",
    "    max_depth = max(len(row) for row in paths) - 1  # subtract 1 for the 'Root Directory' column\n",
    "\n",
    "    # Normalize the rows to have the same length\n",
    "    for row in paths:\n",
    "        row.extend([''] * (max_depth - len(row) + 1))  # +1 to account for 'Root Directory'\n",
    "\n",
    "    # DataFrame from the paths\n",
    "    columns_structure = ['Root Directory'] + [f'Level {i}' for i in range(1, max_depth + 1)]\n",
    "    df_structure = pd.DataFrame(paths, columns=columns_structure)\n",
    "\n",
    "    # DataFrame for file paths and names\n",
    "    columns_files = ['File Path', 'File Name']\n",
    "    df_files = pd.DataFrame(file_data, columns=columns_files)\n",
    "\n",
    "    # Combine DataFrames\n",
    "    df_combined = pd.concat([df_structure, df_files], axis=1)\n",
    "\n",
    "    return df_combined\n",
    "\n",
    "def save_to_excel(df_combined, output_file):\n",
    "    # Save the DataFrame to an Excel file\n",
    "    df_combined.to_excel(output_file, index=False)\n",
    "\n",
    "def main():\n",
    "    root_folder = 'TestDirectory'\n",
    "    output_file = 'OldFileTracking.xlsx'\n",
    "\n",
    "    df_combined = map_directory(root_folder)\n",
    "\n",
    "    # print(\"Combined DataFrame:\")\n",
    "    # print(df_combined.head())\n",
    "\n",
    "    save_to_excel(df_combined, output_file)\n",
    "\n",
    "    print(f\"Directory structure and file list saved to {output_file}\")\n",
    "\n",
    "if __name__ == \"__main__\":\n",
    "    main()\n"
   ]
  }
 ],
 "metadata": {
  "kernelspec": {
   "display_name": "Python 3",
   "language": "python",
   "name": "python3"
  },
  "language_info": {
   "codemirror_mode": {
    "name": "ipython",
    "version": 3
   },
   "file_extension": ".py",
   "mimetype": "text/x-python",
   "name": "python",
   "nbconvert_exporter": "python",
   "pygments_lexer": "ipython3",
   "version": "3.10.0"
  }
 },
 "nbformat": 4,
 "nbformat_minor": 2
}
